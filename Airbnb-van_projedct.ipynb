{
 "cells": [
  {
   "cell_type": "code",
   "execution_count": 5,
   "id": "cbc52137-055c-420d-b9f7-a52a7ce73347",
   "metadata": {},
   "outputs": [],
   "source": [
    "import pandas as pd\n",
    "import numpy as np\n",
    "import seaborn as sns\n",
    "from IPython.display import display, HTML\n",
    "%matplotlib inline"
   ]
  },
  {
   "cell_type": "code",
   "execution_count": 7,
   "id": "da44d277-e907-4547-ac56-a437d534a7ab",
   "metadata": {},
   "outputs": [],
   "source": [
    "df= pd.read_csv('listings.csv')\n"
   ]
  },
  {
   "cell_type": "markdown",
   "id": "314a7fb4-0ac7-4c56-ae55-f83198833793",
   "metadata": {},
   "source": [
    "We will starting engineering the data from http://insideairbnb.com/vancouver/ and seeing in a detail what it comes with this projects.\n",
    "Although this is a recreational project, I want to be able to obtain and highlight a set of logics that will accompany our final results. "
   ]
  },
  {
   "cell_type": "code",
   "execution_count": 8,
   "id": "19c37fca-ec20-4434-b885-3fcbbbbaf3ee",
   "metadata": {},
   "outputs": [
    {
     "name": "stdout",
     "output_type": "stream",
     "text": [
      "<class 'pandas.core.frame.DataFrame'>\n",
      "RangeIndex: 5975 entries, 0 to 5974\n",
      "Data columns (total 75 columns):\n",
      " #   Column                                        Non-Null Count  Dtype  \n",
      "---  ------                                        --------------  -----  \n",
      " 0   id                                            5975 non-null   int64  \n",
      " 1   listing_url                                   5975 non-null   object \n",
      " 2   scrape_id                                     5975 non-null   int64  \n",
      " 3   last_scraped                                  5975 non-null   object \n",
      " 4   source                                        5975 non-null   object \n",
      " 5   name                                          5975 non-null   object \n",
      " 6   description                                   5950 non-null   object \n",
      " 7   neighborhood_overview                         3996 non-null   object \n",
      " 8   picture_url                                   5975 non-null   object \n",
      " 9   host_id                                       5975 non-null   int64  \n",
      " 10  host_url                                      5975 non-null   object \n",
      " 11  host_name                                     5975 non-null   object \n",
      " 12  host_since                                    5975 non-null   object \n",
      " 13  host_location                                 4765 non-null   object \n",
      " 14  host_about                                    3310 non-null   object \n",
      " 15  host_response_time                            4868 non-null   object \n",
      " 16  host_response_rate                            4868 non-null   object \n",
      " 17  host_acceptance_rate                          5110 non-null   object \n",
      " 18  host_is_superhost                             5975 non-null   object \n",
      " 19  host_thumbnail_url                            5975 non-null   object \n",
      " 20  host_picture_url                              5975 non-null   object \n",
      " 21  host_neighbourhood                            5650 non-null   object \n",
      " 22  host_listings_count                           5975 non-null   int64  \n",
      " 23  host_total_listings_count                     5975 non-null   int64  \n",
      " 24  host_verifications                            5975 non-null   object \n",
      " 25  host_has_profile_pic                          5975 non-null   object \n",
      " 26  host_identity_verified                        5975 non-null   object \n",
      " 27  neighbourhood                                 3996 non-null   object \n",
      " 28  neighbourhood_cleansed                        5975 non-null   object \n",
      " 29  neighbourhood_group_cleansed                  0 non-null      float64\n",
      " 30  latitude                                      5975 non-null   float64\n",
      " 31  longitude                                     5975 non-null   float64\n",
      " 32  property_type                                 5975 non-null   object \n",
      " 33  room_type                                     5975 non-null   object \n",
      " 34  accommodates                                  5975 non-null   int64  \n",
      " 35  bathrooms                                     0 non-null      float64\n",
      " 36  bathrooms_text                                5973 non-null   object \n",
      " 37  bedrooms                                      5640 non-null   float64\n",
      " 38  beds                                          5927 non-null   float64\n",
      " 39  amenities                                     5975 non-null   object \n",
      " 40  price                                         5975 non-null   object \n",
      " 41  minimum_nights                                5975 non-null   int64  \n",
      " 42  maximum_nights                                5975 non-null   int64  \n",
      " 43  minimum_minimum_nights                        5975 non-null   int64  \n",
      " 44  maximum_minimum_nights                        5975 non-null   int64  \n",
      " 45  minimum_maximum_nights                        5975 non-null   int64  \n",
      " 46  maximum_maximum_nights                        5975 non-null   int64  \n",
      " 47  minimum_nights_avg_ntm                        5975 non-null   float64\n",
      " 48  maximum_nights_avg_ntm                        5975 non-null   float64\n",
      " 49  calendar_updated                              0 non-null      float64\n",
      " 50  has_availability                              5975 non-null   object \n",
      " 51  availability_30                               5975 non-null   int64  \n",
      " 52  availability_60                               5975 non-null   int64  \n",
      " 53  availability_90                               5975 non-null   int64  \n",
      " 54  availability_365                              5975 non-null   int64  \n",
      " 55  calendar_last_scraped                         5975 non-null   object \n",
      " 56  number_of_reviews                             5975 non-null   int64  \n",
      " 57  number_of_reviews_ltm                         5975 non-null   int64  \n",
      " 58  number_of_reviews_l30d                        5975 non-null   int64  \n",
      " 59  first_review                                  4940 non-null   object \n",
      " 60  last_review                                   4940 non-null   object \n",
      " 61  review_scores_rating                          4940 non-null   float64\n",
      " 62  review_scores_accuracy                        4927 non-null   float64\n",
      " 63  review_scores_cleanliness                     4927 non-null   float64\n",
      " 64  review_scores_checkin                         4926 non-null   float64\n",
      " 65  review_scores_communication                   4927 non-null   float64\n",
      " 66  review_scores_location                        4926 non-null   float64\n",
      " 67  review_scores_value                           4926 non-null   float64\n",
      " 68  license                                       4251 non-null   object \n",
      " 69  instant_bookable                              5975 non-null   object \n",
      " 70  calculated_host_listings_count                5975 non-null   int64  \n",
      " 71  calculated_host_listings_count_entire_homes   5975 non-null   int64  \n",
      " 72  calculated_host_listings_count_private_rooms  5975 non-null   int64  \n",
      " 73  calculated_host_listings_count_shared_rooms   5975 non-null   int64  \n",
      " 74  reviews_per_month                             4940 non-null   float64\n",
      "dtypes: float64(17), int64(23), object(35)\n",
      "memory usage: 3.4+ MB\n"
     ]
    }
   ],
   "source": [
    "df.info() "
   ]
  },
  {
   "cell_type": "markdown",
   "id": "ef5b99f7-1a5f-41f6-8ae0-e0e0a687b5eb",
   "metadata": {},
   "source": [
    "We have a lot qualitative data of type string most likely extracted directly from the app without any kind of processing "
   ]
  },
  {
   "cell_type": "markdown",
   "id": "9b23b099-16d0-47df-bc42-516b61a2ebe8",
   "metadata": {},
   "source": [
    "I will leave a table with the discripcion of each Parameter "
   ]
  },
  {
   "cell_type": "markdown",
   "id": "caef9cd1-ca37-4374-9622-e4f99b0c1053",
   "metadata": {},
   "source": [
    "<table>\n",
    "  <thead>\n",
    "    <tr>\n",
    "      <th>Column</th>\n",
    "      <th>Description</th>\n",
    "    </tr>\n",
    "  </thead>\n",
    "  <tbody>\n",
    "    <tr>\n",
    "      <td>host_since</td>\n",
    "      <td>Date when the host joined the platform</td>\n",
    "    </tr>\n",
    "    <tr>\n",
    "      <td>host_is_superhost</td>\n",
    "      <td>Whether the host have or not superhost status</td>\n",
    "    </tr>\n",
    "    <tr>\n",
    "      <td>host_has_profile_pic</td>\n",
    "      <td>Whether the host has a profile picture</td>\n",
    "    </tr>\n",
    "    <tr>\n",
    "      <td>host_identity_verified</td>\n",
    "      <td>Whether the host has completed identity verification</td>\n",
    "    </tr>\n",
    "    <tr>\n",
    "      <td>latitude</td>\n",
    "      <td>Latitude of the listing</td>\n",
    "    </tr>\n",
    "    <tr>\n",
    "      <td>longitude</td>\n",
    "      <td>Longitude of the listing</td>\n",
    "    </tr>\n",
    "    <tr>\n",
    "      <td>accommodates</td>\n",
    "      <td>Number of guests the listing can accommodate</td>\n",
    "    </tr>\n",
    "    <tr>\n",
    "      <td>bedrooms</td>\n",
    "      <td>Number of bedrooms in the listing</td>\n",
    "    </tr>\n",
    "    <tr>\n",
    "      <td>beds</td>\n",
    "      <td>Number of beds in the listing</td>\n",
    "    </tr>\n",
    "    <tr>\n",
    "      <td>price</td>\n",
    "      <td>Nightly price for the listing</td>\n",
    "    </tr>\n",
    "    <tr>\n",
    "      <td>minimum_nights</td>\n",
    "      <td>Minimum number of nights required for booking</td>\n",
    "    </tr>\n",
    "    <tr>\n",
    "      <td>maximum_nights</td>\n",
    "      <td>Maximum number of nights allowed for booking</td>\n",
    "    </tr>\n",
    "    <tr>\n",
    "      <td>minimum_minimum_nights</td>\n",
    "      <td>Minimum number of nights required for booking for the busiest season</td>\n",
    "    </tr>\n",
    "    <tr>\n",
    "      <td>maximum_minimum_nights</td>\n",
    "      <td>Maximum number of nights required for booking for the busiest season</td>\n",
    "    </tr>\n",
    "    <tr>\n",
    "      <td>minimum_maximum_nights</td>\n",
    "      <td>Minimum number of nights allowed for booking for the busiest season</td>\n",
    "    </tr>\n",
    "    <tr>\n",
    "      <td>maximum_maximum_nights</td>\n",
    "      <td>Maximum number of nights allowed for booking for the busiest season</td>\n",
    "    </tr>\n",
    "    <tr>\n",
    "      <td>minimum_nights_avg_ntm</td>\n",
    "      <td>Average minimum nights for the upcoming 90 days</td>\n",
    "    </tr>\n",
    "    <tr>\n",
    "      <td>maximum_nights_avg_ntm</td>\n",
    "      <td>Average maximum nights for the upcoming 90 days</td>\n",
    "    </tr>\n",
    "    <tr>\n",
    "      <td>availability_30</td>\n",
    "      <td>Number of days the listing is available in the next 30 days</td>\n",
    "    </tr>\n",
    "    <tr>\n",
    "        <td>availability_60</td>\n",
    "        <td>The number of days the listing is available for booking within the next 60 days</td>\n",
    "    </tr>\n",
    "    <tr>\n",
    "    <td>availability_90</td>\n",
    "    <td>The number of days the listing is available for booking within the next 90 days</td>\n",
    "  </tr>\n",
    "  <tr>\n",
    "    <td>availability_365</td>\n",
    "    <td>The number of days the listing is available for booking within the next 365 days</td>\n",
    "  </tr>\n",
    "  <tr>\n",
    "    <td>number_of_reviews</td>\n",
    "    <td>The total number of reviews for the listing</td>\n",
    "  </tr>\n",
    "  <tr>\n",
    "    <td>number_of_reviews_ltm</td>\n",
    "    <td>The total number of reviews for the listing in the last 12 months</td>\n",
    "  </tr>\n",
    "  <tr>\n",
    "    <td>number_of_reviews_l30d</td>\n",
    "    <td>The total number of reviews for the listing in the last 30 days</td>\n",
    "  </tr>\n",
    "  <tr>\n",
    "    <td>first_review</td>\n",
    "    <td>The date of the first review for the listing</td>\n",
    "  </tr>\n",
    "  <tr>\n",
    "    <td>last_review</td>\n",
    "    <td>The date of the most recent review for the listing</td>\n",
    "  </tr>\n",
    "  <tr>\n",
    "    <td>review_scores_rating</td>\n",
    "    <td>The overall rating score for the listing based on all reviews</td>\n",
    "  </tr>\n",
    "  <tr>\n",
    "    <td>review_scores_accuracy</td>\n",
    "    <td>The rating score for the listing's accuracy based on all reviews</td>\n",
    "  </tr>\n",
    "  <tr>\n",
    "    <td>review_scores_cleanliness</td>\n",
    "    <td>The rating score for the listing's cleanliness based on all reviews</td>\n",
    "  </tr>\n",
    "  <tr>\n",
    "    <td>review_scores_checkin</td>\n",
    "    <td>The rating score for the listing's check-in process based on all reviews</td>\n",
    "  </tr>\n",
    "  <tr>\n",
    "    <td>review_scores_communication</td>\n",
    "    <td>The rating score for the listing's communication based on all reviews</td>\n",
    "  </tr>\n",
    "  <tr>\n",
    "    <td>review_scores_location</td>\n",
    "    <td>The rating score for the listing's location based on all reviews</td>\n",
    "  </tr>\n",
    "  <tr>\n",
    "    <td>review_scores_value</td>\n",
    "    <td>The rating score for the listing's value based on all reviews</td>\n",
    "  </tr>\n",
    "  <tr>\n",
    "    <td>license</td>\n",
    "    <td>The license number of the listing (if applicable)</td>\n",
    "  </tr>\n",
    "  <tr>\n",
    "    <td>instant_bookable</td>\n",
    "    <td>Whether the listing is available for instant booking</td>\n",
    "  </tr>\n",
    "  <tr>\n",
    "    <td>calculated_host_listings_count</td>\n",
    "    <td>The total number of listings owned by the host</td>\n",
    "  </tr>\n",
    "  <tr>\n",
    "    <td>calculated_host_listings_count_entire_homes</td>\n",
    "    <td>The number of entire homes owned by the host</td>\n",
    "  </tr>\n",
    "  <tr>\n",
    "    <td>calculated_host_listings_count_private_rooms</td>\n",
    "    <td>The number of private rooms owned by the host</td>\n",
    "  </tr>\n",
    "  <tr>\n",
    "    <td>calculated_host_listings_count_shared_rooms</td>\n",
    "    <td>The number of shared rooms owned by the host</td>\n",
    "  </tr>\n",
    "      <tr>\n",
    "    <td>reviews_per_month</td>\n",
    "    <td>The average number of reviews per month</td>\n",
    "  </tr>\n",
    "  <tr>\n",
    "    <td>n_bathrooms</td>\n",
    "    <td>The number of bathrooms in the listing</td>\n",
    "  </tr>\n",
    "  <tr>\n",
    "    <td>bath_shared</td>\n",
    "    <td>Whether the bathroom is shared with other guests</td>\n",
    "  </tr>\n",
    "</table>"
   ]
  },
  {
   "cell_type": "markdown",
   "id": "229a1ae4-40bd-43d3-a1f5-7bbc8b88d554",
   "metadata": {},
   "source": [
    "We will do some initial exploring data before we start engineering it."
   ]
  },
  {
   "cell_type": "markdown",
   "id": "d12060fd-e544-4fa4-ba34-2aca5d01687a",
   "metadata": {},
   "source": [
    "Is easy to see that we are dealing mostly with entire apt/home in our dataset, now lets see how many really are \"legal\" to operate"
   ]
  },
  {
   "cell_type": "code",
   "execution_count": 9,
   "id": "28a29d97-b909-48ff-ab6f-22c610ee1111",
   "metadata": {},
   "outputs": [
    {
     "data": {
      "text/plain": [
       "Index(['id', 'listing_url', 'scrape_id', 'last_scraped', 'source', 'name',\n",
       "       'description', 'neighborhood_overview', 'picture_url', 'host_id',\n",
       "       'host_url', 'host_name', 'host_since', 'host_location', 'host_about',\n",
       "       'host_response_time', 'host_response_rate', 'host_acceptance_rate',\n",
       "       'host_is_superhost', 'host_thumbnail_url', 'host_picture_url',\n",
       "       'host_neighbourhood', 'host_listings_count',\n",
       "       'host_total_listings_count', 'host_verifications',\n",
       "       'host_has_profile_pic', 'host_identity_verified', 'neighbourhood',\n",
       "       'neighbourhood_cleansed', 'neighbourhood_group_cleansed', 'latitude',\n",
       "       'longitude', 'property_type', 'room_type', 'accommodates', 'bathrooms',\n",
       "       'bathrooms_text', 'bedrooms', 'beds', 'amenities', 'price',\n",
       "       'minimum_nights', 'maximum_nights', 'minimum_minimum_nights',\n",
       "       'maximum_minimum_nights', 'minimum_maximum_nights',\n",
       "       'maximum_maximum_nights', 'minimum_nights_avg_ntm',\n",
       "       'maximum_nights_avg_ntm', 'calendar_updated', 'has_availability',\n",
       "       'availability_30', 'availability_60', 'availability_90',\n",
       "       'availability_365', 'calendar_last_scraped', 'number_of_reviews',\n",
       "       'number_of_reviews_ltm', 'number_of_reviews_l30d', 'first_review',\n",
       "       'last_review', 'review_scores_rating', 'review_scores_accuracy',\n",
       "       'review_scores_cleanliness', 'review_scores_checkin',\n",
       "       'review_scores_communication', 'review_scores_location',\n",
       "       'review_scores_value', 'license', 'instant_bookable',\n",
       "       'calculated_host_listings_count',\n",
       "       'calculated_host_listings_count_entire_homes',\n",
       "       'calculated_host_listings_count_private_rooms',\n",
       "       'calculated_host_listings_count_shared_rooms', 'reviews_per_month'],\n",
       "      dtype='object')"
      ]
     },
     "execution_count": 9,
     "metadata": {},
     "output_type": "execute_result"
    }
   ],
   "source": [
    "df.columns"
   ]
  },
  {
   "cell_type": "code",
   "execution_count": 10,
   "id": "04372279-0520-4440-b8c0-db3c9321cff9",
   "metadata": {},
   "outputs": [
    {
     "name": "stdout",
     "output_type": "stream",
     "text": [
      "<class 'pandas.core.frame.DataFrame'>\n",
      "RangeIndex: 5975 entries, 0 to 5974\n",
      "Data columns (total 75 columns):\n",
      " #   Column                                        Non-Null Count  Dtype  \n",
      "---  ------                                        --------------  -----  \n",
      " 0   id                                            5975 non-null   int64  \n",
      " 1   listing_url                                   5975 non-null   object \n",
      " 2   scrape_id                                     5975 non-null   int64  \n",
      " 3   last_scraped                                  5975 non-null   object \n",
      " 4   source                                        5975 non-null   object \n",
      " 5   name                                          5975 non-null   object \n",
      " 6   description                                   5950 non-null   object \n",
      " 7   neighborhood_overview                         3996 non-null   object \n",
      " 8   picture_url                                   5975 non-null   object \n",
      " 9   host_id                                       5975 non-null   int64  \n",
      " 10  host_url                                      5975 non-null   object \n",
      " 11  host_name                                     5975 non-null   object \n",
      " 12  host_since                                    5975 non-null   object \n",
      " 13  host_location                                 4765 non-null   object \n",
      " 14  host_about                                    3310 non-null   object \n",
      " 15  host_response_time                            4868 non-null   object \n",
      " 16  host_response_rate                            4868 non-null   object \n",
      " 17  host_acceptance_rate                          5110 non-null   object \n",
      " 18  host_is_superhost                             5975 non-null   object \n",
      " 19  host_thumbnail_url                            5975 non-null   object \n",
      " 20  host_picture_url                              5975 non-null   object \n",
      " 21  host_neighbourhood                            5650 non-null   object \n",
      " 22  host_listings_count                           5975 non-null   int64  \n",
      " 23  host_total_listings_count                     5975 non-null   int64  \n",
      " 24  host_verifications                            5975 non-null   object \n",
      " 25  host_has_profile_pic                          5975 non-null   object \n",
      " 26  host_identity_verified                        5975 non-null   object \n",
      " 27  neighbourhood                                 3996 non-null   object \n",
      " 28  neighbourhood_cleansed                        5975 non-null   object \n",
      " 29  neighbourhood_group_cleansed                  0 non-null      float64\n",
      " 30  latitude                                      5975 non-null   float64\n",
      " 31  longitude                                     5975 non-null   float64\n",
      " 32  property_type                                 5975 non-null   object \n",
      " 33  room_type                                     5975 non-null   object \n",
      " 34  accommodates                                  5975 non-null   int64  \n",
      " 35  bathrooms                                     0 non-null      float64\n",
      " 36  bathrooms_text                                5973 non-null   object \n",
      " 37  bedrooms                                      5640 non-null   float64\n",
      " 38  beds                                          5927 non-null   float64\n",
      " 39  amenities                                     5975 non-null   object \n",
      " 40  price                                         5975 non-null   object \n",
      " 41  minimum_nights                                5975 non-null   int64  \n",
      " 42  maximum_nights                                5975 non-null   int64  \n",
      " 43  minimum_minimum_nights                        5975 non-null   int64  \n",
      " 44  maximum_minimum_nights                        5975 non-null   int64  \n",
      " 45  minimum_maximum_nights                        5975 non-null   int64  \n",
      " 46  maximum_maximum_nights                        5975 non-null   int64  \n",
      " 47  minimum_nights_avg_ntm                        5975 non-null   float64\n",
      " 48  maximum_nights_avg_ntm                        5975 non-null   float64\n",
      " 49  calendar_updated                              0 non-null      float64\n",
      " 50  has_availability                              5975 non-null   object \n",
      " 51  availability_30                               5975 non-null   int64  \n",
      " 52  availability_60                               5975 non-null   int64  \n",
      " 53  availability_90                               5975 non-null   int64  \n",
      " 54  availability_365                              5975 non-null   int64  \n",
      " 55  calendar_last_scraped                         5975 non-null   object \n",
      " 56  number_of_reviews                             5975 non-null   int64  \n",
      " 57  number_of_reviews_ltm                         5975 non-null   int64  \n",
      " 58  number_of_reviews_l30d                        5975 non-null   int64  \n",
      " 59  first_review                                  4940 non-null   object \n",
      " 60  last_review                                   4940 non-null   object \n",
      " 61  review_scores_rating                          4940 non-null   float64\n",
      " 62  review_scores_accuracy                        4927 non-null   float64\n",
      " 63  review_scores_cleanliness                     4927 non-null   float64\n",
      " 64  review_scores_checkin                         4926 non-null   float64\n",
      " 65  review_scores_communication                   4927 non-null   float64\n",
      " 66  review_scores_location                        4926 non-null   float64\n",
      " 67  review_scores_value                           4926 non-null   float64\n",
      " 68  license                                       4251 non-null   object \n",
      " 69  instant_bookable                              5975 non-null   object \n",
      " 70  calculated_host_listings_count                5975 non-null   int64  \n",
      " 71  calculated_host_listings_count_entire_homes   5975 non-null   int64  \n",
      " 72  calculated_host_listings_count_private_rooms  5975 non-null   int64  \n",
      " 73  calculated_host_listings_count_shared_rooms   5975 non-null   int64  \n",
      " 74  reviews_per_month                             4940 non-null   float64\n",
      "dtypes: float64(17), int64(23), object(35)\n",
      "memory usage: 3.4+ MB\n"
     ]
    }
   ],
   "source": [
    "df.info()"
   ]
  },
  {
   "cell_type": "code",
   "execution_count": 12,
   "id": "31815845-4b8a-4e7c-be7c-163bf535db2e",
   "metadata": {},
   "outputs": [
    {
     "data": {
      "image/png": "[encoded data removed]",
      "text/plain": [
       "<Figure size 640x480 with 1 Axes>"
      ]
     },
     "metadata": {},
     "output_type": "display_data"
    }
   ],
   "source": [
    "sns.set_style('whitegrid')\n",
    "ax= sns.countplot(x='room_type', data=df)\n",
    "total = float(len(df))\n",
    "for p in ax.patches:\n",
    "    height = p.get_height()\n",
    "    ax.text(p.get_x() + p.get_width() / 2., height + 3, '{:.1%}'.format(height/total), ha=\"center\")"
   ]
  },
  {
   "cell_type": "code",
   "execution_count": 13,
   "id": "87e97c89-12cd-4d4a-83d1-340b8e28b600",
   "metadata": {},
   "outputs": [],
   "source": [
    "df.drop('host_location', axis=1, inplace=True)\n"
   ]
  },
  {
   "cell_type": "code",
   "execution_count": 14,
   "id": "d2c397e4-6319-4d54-9249-58e2fb101270",
   "metadata": {},
   "outputs": [],
   "source": [
    "df.drop('host_about', axis=1, inplace=True)\n"
   ]
  },
  {
   "cell_type": "code",
   "execution_count": 15,
   "id": "7cb30d38-1fd4-4014-b252-0b5b58dc5a74",
   "metadata": {},
   "outputs": [],
   "source": [
    "df.drop(['listing_url','scrape_id','description','id','neighborhood_overview','picture_url','host_id','host_url','host_name'], axis=1, inplace=True)\n"
   ]
  },
  {
   "cell_type": "code",
   "execution_count": 16,
   "id": "07106893-6237-4fef-8b94-785db243a6e6",
   "metadata": {},
   "outputs": [],
   "source": [
    "df.drop(['host_thumbnail_url','host_listings_count','host_total_listings_count','host_picture_url','neighbourhood','neighbourhood_group_cleansed','bathrooms','calendar_updated'], axis=1, inplace=True)\n"
   ]
  },
  {
   "cell_type": "code",
   "execution_count": 17,
   "id": "db00625f-c122-49ca-8ee2-a04ec2bad256",
   "metadata": {},
   "outputs": [],
   "source": [
    "df.drop(['calculated_host_listings_count','calculated_host_listings_count_entire_homes','calculated_host_listings_count_private_rooms','calculated_host_listings_count_shared_rooms'], axis=1, inplace=True)"
   ]
  },
  {
   "cell_type": "code",
   "execution_count": 18,
   "id": "e149e6fe-702b-4e7f-aa3e-fb8eec1566ba",
   "metadata": {},
   "outputs": [
    {
     "data": {
      "text/plain": [
       "Index(['last_scraped', 'source', 'name', 'host_since', 'host_response_time',\n",
       "       'host_response_rate', 'host_acceptance_rate', 'host_is_superhost',\n",
       "       'host_neighbourhood', 'host_verifications', 'host_has_profile_pic',\n",
       "       'host_identity_verified', 'neighbourhood_cleansed', 'latitude',\n",
       "       'longitude', 'property_type', 'room_type', 'accommodates',\n",
       "       'bathrooms_text', 'bedrooms', 'beds', 'amenities', 'price',\n",
       "       'minimum_nights', 'maximum_nights', 'minimum_minimum_nights',\n",
       "       'maximum_minimum_nights', 'minimum_maximum_nights',\n",
       "       'maximum_maximum_nights', 'minimum_nights_avg_ntm',\n",
       "       'maximum_nights_avg_ntm', 'has_availability', 'availability_30',\n",
       "       'availability_60', 'availability_90', 'availability_365',\n",
       "       'calendar_last_scraped', 'number_of_reviews', 'number_of_reviews_ltm',\n",
       "       'number_of_reviews_l30d', 'first_review', 'last_review',\n",
       "       'review_scores_rating', 'review_scores_accuracy',\n",
       "       'review_scores_cleanliness', 'review_scores_checkin',\n",
       "       'review_scores_communication', 'review_scores_location',\n",
       "       'review_scores_value', 'license', 'instant_bookable',\n",
       "       'reviews_per_month'],\n",
       "      dtype='object')"
      ]
     },
     "execution_count": 18,
     "metadata": {},
     "output_type": "execute_result"
    }
   ],
   "source": [
    "df.head().columns"
   ]
  },
  {
   "cell_type": "code",
   "execution_count": 19,
   "id": "cc2cf5c8-e5dc-4903-9852-dd49a5d94541",
   "metadata": {},
   "outputs": [],
   "source": [
    "df['host_response_time'].fillna('Unspecified', inplace=True) \n",
    "#We will fill both response time and response rate with unspecified for nan data, \n",
    "#because this data is representative for what we want to elaborate"
   ]
  },
  {
   "cell_type": "code",
   "execution_count": 20,
   "id": "397d9f0f-d439-497f-9e48-7fb9a68debb4",
   "metadata": {},
   "outputs": [],
   "source": [
    "df['host_response_rate'].fillna('Unspecified', inplace=True)"
   ]
  },
  {
   "cell_type": "code",
   "execution_count": 21,
   "id": "04bb69e4-73ba-4991-8524-43071af0fd02",
   "metadata": {},
   "outputs": [
    {
     "data": {
      "text/plain": [
       "325"
      ]
     },
     "execution_count": 21,
     "metadata": {},
     "output_type": "execute_result"
    }
   ],
   "source": [
    "df['host_neighbourhood'].isnull().sum() \n",
    "#we have 325 nan date for neighbourgood, but is not too representative where the host live so we wil drop it"
   ]
  },
  {
   "cell_type": "code",
   "execution_count": 22,
   "id": "8eea7f71-37aa-4118-8481-1422f61ad7cf",
   "metadata": {},
   "outputs": [],
   "source": [
    "df.drop('host_neighbourhood', axis=1, inplace=True) "
   ]
  },
  {
   "cell_type": "code",
   "execution_count": 23,
   "id": "6c4abfdd-4e30-48ba-b1da-8a161d2f7405",
   "metadata": {},
   "outputs": [
    {
     "data": {
      "text/plain": [
       "335"
      ]
     },
     "execution_count": 23,
     "metadata": {},
     "output_type": "execute_result"
    }
   ],
   "source": [
    "df['bedrooms'].isnull().sum()"
   ]
  },
  {
   "cell_type": "markdown",
   "id": "399d7f50-eede-41b0-aec3-014a8561b55f",
   "metadata": {},
   "source": [
    "We have 335 missing data for bedrooms, and I think is a important aspect to consider so :\n",
    "We will find a good way to fill the missing data for bedrooms, and see how corraleted is with the other columns\n",
    "Here are 2 important aspect , number of bathrooms , and if shared or private "
   ]
  },
  {
   "cell_type": "code",
   "execution_count": 27,
   "id": "d8ea641e-a479-43f2-a62f-be21b3679894",
   "metadata": {},
   "outputs": [],
   "source": [
    "import re \n",
    "def bathclass(bathrooms):\n",
    "    # extraer la cantidad de baños sin modificar\n",
    "    n_bathrooms = re.findall(r'[\\d\\.]+', str(bathrooms))\n",
    "    # convertir a un número de coma flotante\n",
    "    n_bathrooms = float(n_bathrooms[0]) if n_bathrooms else None\n",
    "    # buscar si el baño es compartido\n",
    "    bath_shared = True if 'shared' in str(bathrooms).lower() else False\n",
    "    # devolver los valores como una tupla\n",
    "    return n_bathrooms, bath_shared\n",
    "\n"
   ]
  },
  {
   "cell_type": "code",
   "execution_count": 28,
   "id": "06adebe9-6bec-44a5-b40b-fc77a632e121",
   "metadata": {},
   "outputs": [],
   "source": [
    "df[['n_bathrooms', 'bath_shared']] = df['bathrooms_text'].apply(lambda x: pd.Series(bathclass(x)))"
   ]
  },
  {
   "cell_type": "code",
   "execution_count": 29,
   "id": "841b8052-6d36-49c9-b145-d51f4f57cc56",
   "metadata": {},
   "outputs": [],
   "source": [
    "#We will drop now bathrooms_text since we have the new 2 columns with the information"
   ]
  },
  {
   "cell_type": "code",
   "execution_count": 30,
   "id": "1b27a21b-cdb0-4c67-b4e4-a877f4afcdbf",
   "metadata": {},
   "outputs": [],
   "source": [
    "df.drop('bathrooms_text',axis=1, inplace=True)"
   ]
  },
  {
   "cell_type": "code",
   "execution_count": 31,
   "id": "9abdae90-cea9-4cd8-a2f1-c3500002e9ef",
   "metadata": {},
   "outputs": [
    {
     "data": {
      "text/plain": [
       "n_bathrooms     0.738130\n",
       "beds            0.833691\n",
       "accommodates    0.835460\n",
       "bedrooms        1.000000\n",
       "Name: bedrooms, dtype: float64"
      ]
     },
     "execution_count": 31,
     "metadata": {},
     "output_type": "execute_result"
    }
   ],
   "source": [
    "#Now lets check again de corr \n",
    "df.select_dtypes(include=[np.number]).corr()['bedrooms'].sort_values()[-4:]"
   ]
  },
  {
   "cell_type": "code",
   "execution_count": 32,
   "id": "01f6870c-6d20-48f9-a56a-0198eebd6dd8",
   "metadata": {},
   "outputs": [
    {
     "data": {
      "text/plain": [
       "n_bathrooms      10\n",
       "accommodates      0\n",
       "bedrooms        335\n",
       "dtype: int64"
      ]
     },
     "execution_count": 32,
     "metadata": {},
     "output_type": "execute_result"
    }
   ],
   "source": [
    "df[['n_bathrooms','accommodates','bedrooms']].isnull().sum()"
   ]
  },
  {
   "cell_type": "code",
   "execution_count": 33,
   "id": "3c164fd9-10fd-4b97-8a15-736844bc12f7",
   "metadata": {},
   "outputs": [],
   "source": [
    "grouped_df = df.groupby(['accommodates','bedrooms'])['n_bathrooms'].mean()\n",
    "grouped_df= grouped_df.round()\n",
    "#function to find the accomodates and bedrooms for the nan bathrooms rows and get the mean value from the grouped df\n",
    "def fill_n_bathrooms(row):\n",
    "    if pd.isna(row['n_bathrooms']):\n",
    "        return grouped_df.loc[row['accommodates'], row['bedrooms']]\n",
    "    else:\n",
    "        return row['n_bathrooms']\n",
    "\n",
    "df['n_bathrooms'] = df.apply(fill_n_bathrooms, axis=1)\n"
   ]
  },
  {
   "cell_type": "code",
   "execution_count": 34,
   "id": "30142bb1-e59d-4474-a741-f33694d3f8d3",
   "metadata": {},
   "outputs": [
    {
     "data": {
      "text/plain": [
       "48"
      ]
     },
     "execution_count": 34,
     "metadata": {},
     "output_type": "execute_result"
    }
   ],
   "source": [
    "df['beds'].isnull().sum()"
   ]
  },
  {
   "cell_type": "code",
   "execution_count": 35,
   "id": "8039ec62-20f3-438f-b2c4-1dfb5089aa5f",
   "metadata": {},
   "outputs": [],
   "source": [
    "#we will just drop the missing info for beds=Nan, since is just 0,8% of the data\n",
    "df.dropna(subset=['beds'], inplace=True)"
   ]
  },
  {
   "cell_type": "code",
   "execution_count": 36,
   "id": "06419e55-1657-4beb-b1b2-2868dd72e491",
   "metadata": {},
   "outputs": [],
   "source": [
    "#We will do the same for bedrooms that we did for bathrooms but now we include beds "
   ]
  },
  {
   "cell_type": "code",
   "execution_count": 37,
   "id": "334010b4-1371-473d-a34e-e4093a4b6eb4",
   "metadata": {},
   "outputs": [],
   "source": [
    "grouped_df_bedrooms = df.groupby(['accommodates','n_bathrooms','beds'])['bedrooms'].mean()"
   ]
  },
  {
   "cell_type": "code",
   "execution_count": 38,
   "id": "bd372ec4-3097-45b9-b0e6-5d6245f55bfe",
   "metadata": {},
   "outputs": [],
   "source": [
    "grouped_df_bedrooms = grouped_df_bedrooms.round()"
   ]
  },
  {
   "cell_type": "code",
   "execution_count": 39,
   "id": "a6280a26-ca2c-4586-963d-f43fa2b883db",
   "metadata": {},
   "outputs": [],
   "source": [
    "def fill_n_bedrooms(row):\n",
    "    if pd.isna(row['bedrooms']):\n",
    "        return grouped_df_bedrooms.loc[row['accommodates'], row['n_bathrooms'],row['beds']]\n",
    "    else:\n",
    "        return row['bedrooms']\n"
   ]
  },
  {
   "cell_type": "code",
   "execution_count": 40,
   "id": "7dfac6b1-095f-4818-8bd6-1864a68bf7e6",
   "metadata": {},
   "outputs": [],
   "source": [
    "df['bedrooms'] = df.apply(fill_n_bedrooms, axis=1)"
   ]
  },
  {
   "cell_type": "code",
   "execution_count": 41,
   "id": "6c92f72a-7836-461e-aa9e-36ddf5fe555e",
   "metadata": {},
   "outputs": [
    {
     "data": {
      "text/plain": [
       "accommodates    0\n",
       "n_bathrooms     0\n",
       "beds            0\n",
       "dtype: int64"
      ]
     },
     "execution_count": 41,
     "metadata": {},
     "output_type": "execute_result"
    }
   ],
   "source": [
    "df[['accommodates', 'n_bathrooms', 'beds']].isnull().sum()\n"
   ]
  },
  {
   "cell_type": "code",
   "execution_count": 42,
   "id": "665eb408-ec38-46b2-a3c7-c82f10f2828d",
   "metadata": {},
   "outputs": [],
   "source": [
    "df.loc[df['bedrooms'].isnull(), 'bedrooms'] = df['bedrooms'].fillna(1)"
   ]
  },
  {
   "cell_type": "code",
   "execution_count": 43,
   "id": "7a751db1-e108-4c4b-92d7-b025e841ba37",
   "metadata": {},
   "outputs": [
    {
     "data": {
      "text/plain": [
       "last_scraped                      0\n",
       "source                            0\n",
       "name                              0\n",
       "host_since                        0\n",
       "host_response_time                0\n",
       "host_response_rate                0\n",
       "host_acceptance_rate            854\n",
       "host_is_superhost                 0\n",
       "host_verifications                0\n",
       "host_has_profile_pic              0\n",
       "host_identity_verified            0\n",
       "neighbourhood_cleansed            0\n",
       "latitude                          0\n",
       "longitude                         0\n",
       "property_type                     0\n",
       "room_type                         0\n",
       "accommodates                      0\n",
       "bedrooms                          0\n",
       "beds                              0\n",
       "amenities                         0\n",
       "price                             0\n",
       "minimum_nights                    0\n",
       "maximum_nights                    0\n",
       "minimum_minimum_nights            0\n",
       "maximum_minimum_nights            0\n",
       "minimum_maximum_nights            0\n",
       "maximum_maximum_nights            0\n",
       "minimum_nights_avg_ntm            0\n",
       "maximum_nights_avg_ntm            0\n",
       "has_availability                  0\n",
       "availability_30                   0\n",
       "availability_60                   0\n",
       "availability_90                   0\n",
       "availability_365                  0\n",
       "calendar_last_scraped             0\n",
       "number_of_reviews                 0\n",
       "number_of_reviews_ltm             0\n",
       "number_of_reviews_l30d            0\n",
       "first_review                   1026\n",
       "last_review                    1026\n",
       "review_scores_rating           1026\n",
       "review_scores_accuracy         1038\n",
       "review_scores_cleanliness      1038\n",
       "review_scores_checkin          1039\n",
       "review_scores_communication    1038\n",
       "review_scores_location         1039\n",
       "review_scores_value            1039\n",
       "license                        1705\n",
       "instant_bookable                  0\n",
       "reviews_per_month              1026\n",
       "n_bathrooms                       0\n",
       "bath_shared                       0\n",
       "dtype: int64"
      ]
     },
     "execution_count": 43,
     "metadata": {},
     "output_type": "execute_result"
    }
   ],
   "source": [
    "df.isnull().sum()"
   ]
  },
  {
   "cell_type": "code",
   "execution_count": 44,
   "id": "df5d3967-1d6a-47e1-85b7-b8bf539b0af6",
   "metadata": {},
   "outputs": [],
   "source": [
    "#We are filling with no license people who didn't provide a number\n",
    "df['license'] = df['license'].fillna('No license')\n"
   ]
  },
  {
   "cell_type": "code",
   "execution_count": 45,
   "id": "153150a0-e21f-42a4-b71d-cd74e3f86ebd",
   "metadata": {},
   "outputs": [],
   "source": [
    "df_strings = df.select_dtypes(include='object')\n"
   ]
  },
  {
   "cell_type": "code",
   "execution_count": 46,
   "id": "7870d38b-fefa-4b8d-b6d0-dda0b5d8a157",
   "metadata": {},
   "outputs": [
    {
     "data": {
      "text/plain": [
       "Index(['last_scraped', 'source', 'name', 'host_since', 'host_response_time',\n",
       "       'host_response_rate', 'host_acceptance_rate', 'host_is_superhost',\n",
       "       'host_verifications', 'host_has_profile_pic', 'host_identity_verified',\n",
       "       'neighbourhood_cleansed', 'property_type', 'room_type', 'amenities',\n",
       "       'price', 'has_availability', 'calendar_last_scraped', 'first_review',\n",
       "       'last_review', 'license', 'instant_bookable'],\n",
       "      dtype='object')"
      ]
     },
     "execution_count": 46,
     "metadata": {},
     "output_type": "execute_result"
    }
   ],
   "source": [
    "df_strings.columns"
   ]
  },
  {
   "cell_type": "code",
   "execution_count": 47,
   "id": "8276aec7-3ead-4114-925c-6aaac6ce3d3c",
   "metadata": {},
   "outputs": [],
   "source": [
    "#We are converting some strings in dummies variables "
   ]
  },
  {
   "cell_type": "code",
   "execution_count": 48,
   "id": "9635691b-24f8-4e1f-897e-ac05277e39ff",
   "metadata": {},
   "outputs": [],
   "source": [
    "#Property type and room_type are practically sayin the same , we will keep the room_type\n",
    "df.drop('property_type', axis=1, inplace=True)"
   ]
  },
  {
   "cell_type": "code",
   "execution_count": 49,
   "id": "e6412b99-93f1-4956-80df-2cd26585b82f",
   "metadata": {},
   "outputs": [],
   "source": [
    "#We will drop has_availability since is a data that change every minute and we are not linked to a daily info"
   ]
  },
  {
   "cell_type": "code",
   "execution_count": 50,
   "id": "eb971733-fe96-498c-8afb-274db7f460c1",
   "metadata": {},
   "outputs": [],
   "source": [
    "df.drop('has_availability', axis=1, inplace=True)"
   ]
  },
  {
   "cell_type": "code",
   "execution_count": 51,
   "id": "bfa5afb6-c15e-464b-9376-7d6de3720bb7",
   "metadata": {},
   "outputs": [],
   "source": [
    "#We will keep host_response_time since is give us a big picture how often we can get a respond from the host \n",
    "# and we will drop host_response_rate since we have also missing values there"
   ]
  },
  {
   "cell_type": "code",
   "execution_count": 52,
   "id": "af3d96ba-dae5-4aeb-9bb6-d226422297a7",
   "metadata": {},
   "outputs": [],
   "source": [
    "df.drop('host_response_rate',axis=1,inplace=True)"
   ]
  },
  {
   "cell_type": "code",
   "execution_count": 53,
   "id": "4481175b-cad6-43ac-9c84-8a357fc881fd",
   "metadata": {},
   "outputs": [],
   "source": [
    "df.drop('source',axis=1,inplace=True)"
   ]
  },
  {
   "cell_type": "code",
   "execution_count": 54,
   "id": "0c590e5f-91e7-4e34-a223-065e79503e64",
   "metadata": {},
   "outputs": [
    {
     "data": {
      "text/plain": [
       "0       ['email', 'phone']\n",
       "1       ['email', 'phone']\n",
       "2       ['email', 'phone']\n",
       "3       ['email', 'phone']\n",
       "4                ['phone']\n",
       "               ...        \n",
       "5970    ['email', 'phone']\n",
       "5971    ['email', 'phone']\n",
       "5972    ['email', 'phone']\n",
       "5973    ['email', 'phone']\n",
       "5974    ['email', 'phone']\n",
       "Name: host_verifications, Length: 5927, dtype: object"
      ]
     },
     "execution_count": 54,
     "metadata": {},
     "output_type": "execute_result"
    }
   ],
   "source": [
    "df['host_verifications']"
   ]
  },
  {
   "cell_type": "code",
   "execution_count": 55,
   "id": "dcdad595-c369-4bc5-b0ac-661334d26092",
   "metadata": {},
   "outputs": [],
   "source": [
    "df['host_verificationss'] = df['host_verifications'].str.strip('[]').str.replace(\"'\", '').str.split(', ')\n"
   ]
  },
  {
   "cell_type": "code",
   "execution_count": 56,
   "id": "03e81413-bf74-4bd5-be01-95573a147300",
   "metadata": {},
   "outputs": [
    {
     "data": {
      "text/plain": [
       "0       [email, phone]\n",
       "1       [email, phone]\n",
       "2       [email, phone]\n",
       "3       [email, phone]\n",
       "4              [phone]\n",
       "             ...      \n",
       "5970    [email, phone]\n",
       "5971    [email, phone]\n",
       "5972    [email, phone]\n",
       "5973    [email, phone]\n",
       "5974    [email, phone]\n",
       "Name: host_verificationss, Length: 5927, dtype: object"
      ]
     },
     "execution_count": 56,
     "metadata": {},
     "output_type": "execute_result"
    }
   ],
   "source": [
    "df['host_verificationss']"
   ]
  },
  {
   "cell_type": "code",
   "execution_count": 57,
   "id": "c8b71907-f547-44f3-8db3-e0a7feaf35e2",
   "metadata": {},
   "outputs": [],
   "source": [
    "dummies = pd.get_dummies(df['host_verificationss'].apply(pd.Series).stack())"
   ]
  },
  {
   "cell_type": "code",
   "execution_count": 58,
   "id": "240eb877-0964-4528-9a6f-0812f464bb07",
   "metadata": {},
   "outputs": [],
   "source": [
    "dummies = dummies.groupby(level=0).max()"
   ]
  },
  {
   "cell_type": "code",
   "execution_count": 59,
   "id": "cd31c39d-b510-447e-9a09-699d56e89ccd",
   "metadata": {},
   "outputs": [],
   "source": [
    "dummies = dummies.add_suffix('host_verification')"
   ]
  },
  {
   "cell_type": "code",
   "execution_count": 60,
   "id": "0bcea359-59b9-4462-b74d-d27eeda7a4e8",
   "metadata": {},
   "outputs": [],
   "source": [
    "df=pd.concat([df,dummies], axis=1)"
   ]
  },
  {
   "cell_type": "code",
   "execution_count": 61,
   "id": "8e6a5dd9-cb07-44b7-93dd-5af9af5888fd",
   "metadata": {},
   "outputs": [],
   "source": [
    "df.drop(['host_verifications','host_verificationss'], axis=1, inplace=True)"
   ]
  },
  {
   "cell_type": "code",
   "execution_count": 62,
   "id": "3d308bf0-f467-480c-9ed9-a17e22b9367b",
   "metadata": {},
   "outputs": [],
   "source": [
    "dum_sort = pd.get_dummies(df[['neighbourhood_cleansed','room_type','host_response_time']])"
   ]
  },
  {
   "cell_type": "code",
   "execution_count": 63,
   "id": "0a5cefa0-bc9b-4586-baba-1406b51c928d",
   "metadata": {},
   "outputs": [],
   "source": [
    "df= pd.concat([df,dum_sort],axis=1)"
   ]
  },
  {
   "cell_type": "code",
   "execution_count": 64,
   "id": "12baa811-b6c9-4bae-9782-f739a3722c9a",
   "metadata": {},
   "outputs": [],
   "source": [
    "df.drop(['neighbourhood_cleansed','room_type','host_response_time'], axis=1, inplace=True)"
   ]
  },
  {
   "cell_type": "code",
   "execution_count": 65,
   "id": "9f8e4d72-b778-456e-b1fc-6cd11de1e7eb",
   "metadata": {},
   "outputs": [],
   "source": [
    "df.drop(['last_scraped','name','calendar_last_scraped'], axis=1, inplace=True)"
   ]
  },
  {
   "cell_type": "code",
   "execution_count": 66,
   "id": "53aae598-e209-43d3-8026-40d18f0471ac",
   "metadata": {},
   "outputs": [
    {
     "data": {
      "text/plain": [
       "Index(['host_since', 'host_acceptance_rate', 'host_is_superhost',\n",
       "       'host_has_profile_pic', 'host_identity_verified', 'latitude',\n",
       "       'longitude', 'accommodates', 'bedrooms', 'beds', 'amenities', 'price',\n",
       "       'minimum_nights', 'maximum_nights', 'minimum_minimum_nights',\n",
       "       'maximum_minimum_nights', 'minimum_maximum_nights',\n",
       "       'maximum_maximum_nights', 'minimum_nights_avg_ntm',\n",
       "       'maximum_nights_avg_ntm', 'availability_30', 'availability_60',\n",
       "       'availability_90', 'availability_365', 'number_of_reviews',\n",
       "       'number_of_reviews_ltm', 'number_of_reviews_l30d', 'first_review',\n",
       "       'last_review', 'review_scores_rating', 'review_scores_accuracy',\n",
       "       'review_scores_cleanliness', 'review_scores_checkin',\n",
       "       'review_scores_communication', 'review_scores_location',\n",
       "       'review_scores_value', 'license', 'instant_bookable',\n",
       "       'reviews_per_month', 'n_bathrooms', 'bath_shared',\n",
       "       'emailhost_verification', 'phonehost_verification',\n",
       "       'photographerhost_verification', 'work_emailhost_verification',\n",
       "       'neighbourhood_cleansed_Arbutus Ridge',\n",
       "       'neighbourhood_cleansed_Downtown',\n",
       "       'neighbourhood_cleansed_Downtown Eastside',\n",
       "       'neighbourhood_cleansed_Dunbar Southlands',\n",
       "       'neighbourhood_cleansed_Fairview',\n",
       "       'neighbourhood_cleansed_Grandview-Woodland',\n",
       "       'neighbourhood_cleansed_Hastings-Sunrise',\n",
       "       'neighbourhood_cleansed_Kensington-Cedar Cottage',\n",
       "       'neighbourhood_cleansed_Kerrisdale', 'neighbourhood_cleansed_Killarney',\n",
       "       'neighbourhood_cleansed_Kitsilano', 'neighbourhood_cleansed_Marpole',\n",
       "       'neighbourhood_cleansed_Mount Pleasant',\n",
       "       'neighbourhood_cleansed_Oakridge',\n",
       "       'neighbourhood_cleansed_Renfrew-Collingwood',\n",
       "       'neighbourhood_cleansed_Riley Park',\n",
       "       'neighbourhood_cleansed_Shaughnessy',\n",
       "       'neighbourhood_cleansed_South Cambie',\n",
       "       'neighbourhood_cleansed_Strathcona', 'neighbourhood_cleansed_Sunset',\n",
       "       'neighbourhood_cleansed_Victoria-Fraserview',\n",
       "       'neighbourhood_cleansed_West End',\n",
       "       'neighbourhood_cleansed_West Point Grey', 'room_type_Entire home/apt',\n",
       "       'room_type_Hotel room', 'room_type_Private room',\n",
       "       'room_type_Shared room', 'host_response_time_Unspecified',\n",
       "       'host_response_time_a few days or more',\n",
       "       'host_response_time_within a day',\n",
       "       'host_response_time_within a few hours',\n",
       "       'host_response_time_within an hour'],\n",
       "      dtype='object')"
      ]
     },
     "execution_count": 66,
     "metadata": {},
     "output_type": "execute_result"
    }
   ],
   "source": [
    "df.columns"
   ]
  },
  {
   "cell_type": "code",
   "execution_count": 67,
   "id": "b0bce267-c678-4b64-b167-4a5dae81a133",
   "metadata": {},
   "outputs": [],
   "source": [
    "df_strings = df.select_dtypes(include='object')"
   ]
  },
  {
   "cell_type": "code",
   "execution_count": 68,
   "id": "af387bac-09ae-49d8-a3e8-c330d95203f0",
   "metadata": {},
   "outputs": [
    {
     "data": {
      "text/plain": [
       "host_since                   0\n",
       "host_acceptance_rate       854\n",
       "host_is_superhost            0\n",
       "host_has_profile_pic         0\n",
       "host_identity_verified       0\n",
       "amenities                    0\n",
       "price                        0\n",
       "first_review              1026\n",
       "last_review               1026\n",
       "license                      0\n",
       "instant_bookable             0\n",
       "dtype: int64"
      ]
     },
     "execution_count": 68,
     "metadata": {},
     "output_type": "execute_result"
    }
   ],
   "source": [
    "df_strings.isnull().sum()"
   ]
  },
  {
   "cell_type": "code",
   "execution_count": 69,
   "id": "d8c232bc-624a-41bd-82ca-3d0c43e535b0",
   "metadata": {},
   "outputs": [],
   "source": [
    "df['host_is_superhost'] = np.where(df['host_is_superhost'] == 't', True, False)"
   ]
  },
  {
   "cell_type": "code",
   "execution_count": 70,
   "id": "4e17f39c-fa7b-402e-9118-ae4afbb0631b",
   "metadata": {},
   "outputs": [],
   "source": [
    "df['host_has_profile_pic'] = np.where(df['host_has_profile_pic'] == 't', True, False)"
   ]
  },
  {
   "cell_type": "code",
   "execution_count": 71,
   "id": "956895d9-fe29-48d4-bb5a-4974c6fa8a27",
   "metadata": {},
   "outputs": [],
   "source": [
    "df['host_identity_verified'] = np.where(df['host_identity_verified'] == 't', True, False)"
   ]
  },
  {
   "cell_type": "code",
   "execution_count": 72,
   "id": "a9a5d2d4-093a-4812-bce0-c6b6dcc84770",
   "metadata": {},
   "outputs": [],
   "source": [
    "df['instant_bookable'] = np.where(df['instant_bookable'] == 't', True, False)"
   ]
  },
  {
   "cell_type": "code",
   "execution_count": 73,
   "id": "094b23b1-0786-480e-b95b-9abb25b738f8",
   "metadata": {},
   "outputs": [],
   "source": [
    "df['license'] = np.where(df['license'] == 'No license', False, True)"
   ]
  },
  {
   "cell_type": "code",
   "execution_count": 74,
   "id": "fb8c3c1c-5288-40ba-9cbc-34b9129df095",
   "metadata": {},
   "outputs": [],
   "source": [
    "df['price'] = pd.to_numeric(df['price'].str.replace(',', '').str.replace('$', ''))"
   ]
  },
  {
   "cell_type": "code",
   "execution_count": 75,
   "id": "32b82260-468d-4ec1-bd79-16ca0d8bf628",
   "metadata": {},
   "outputs": [],
   "source": [
    "df_strings = df.select_dtypes(include='object')"
   ]
  },
  {
   "cell_type": "code",
   "execution_count": 76,
   "id": "78c7b144-2062-4903-8100-057cb3680f55",
   "metadata": {},
   "outputs": [
    {
     "data": {
      "text/plain": [
       "host_since                 0\n",
       "host_acceptance_rate     854\n",
       "amenities                  0\n",
       "first_review            1026\n",
       "last_review             1026\n",
       "dtype: int64"
      ]
     },
     "execution_count": 76,
     "metadata": {},
     "output_type": "execute_result"
    }
   ],
   "source": [
    "df_strings.isnull().sum()"
   ]
  },
  {
   "cell_type": "code",
   "execution_count": 77,
   "id": "da197bf3-6559-4a68-b2bb-94460ee4d5f4",
   "metadata": {},
   "outputs": [],
   "source": [
    "df_copy2 = df.copy()"
   ]
  },
  {
   "cell_type": "code",
   "execution_count": 78,
   "id": "30ff229c-0a62-49f3-83e9-1ac2c7a6ad03",
   "metadata": {},
   "outputs": [],
   "source": [
    "df=df_copy2.copy()"
   ]
  },
  {
   "cell_type": "code",
   "execution_count": 79,
   "id": "74c9bba8-db85-4b6e-9163-89dd6c5f2ab0",
   "metadata": {},
   "outputs": [],
   "source": [
    "# df_copy = pd.concat([df_copy,dummies_amenities], axis=1)"
   ]
  },
  {
   "cell_type": "code",
   "execution_count": 80,
   "id": "2ca8b91b-1d69-4686-932d-a53e413cc963",
   "metadata": {},
   "outputs": [
    {
     "data": {
      "text/html": [
       "<div>\n",
       "<style scoped>\n",
       "    .dataframe tbody tr th:only-of-type {\n",
       "        vertical-align: middle;\n",
       "    }\n",
       "\n",
       "    .dataframe tbody tr th {\n",
       "        vertical-align: top;\n",
       "    }\n",
       "\n",
       "    .dataframe thead th {\n",
       "        text-align: right;\n",
       "    }\n",
       "</style>\n",
       "<table border=\"1\" class=\"dataframe\">\n",
       "  <thead>\n",
       "    <tr style=\"text-align: right;\">\n",
       "      <th></th>\n",
       "      <th>host_since</th>\n",
       "      <th>host_acceptance_rate</th>\n",
       "      <th>host_is_superhost</th>\n",
       "      <th>host_has_profile_pic</th>\n",
       "      <th>host_identity_verified</th>\n",
       "      <th>latitude</th>\n",
       "      <th>longitude</th>\n",
       "      <th>accommodates</th>\n",
       "      <th>bedrooms</th>\n",
       "      <th>beds</th>\n",
       "      <th>...</th>\n",
       "      <th>neighbourhood_cleansed_West Point Grey</th>\n",
       "      <th>room_type_Entire home/apt</th>\n",
       "      <th>room_type_Hotel room</th>\n",
       "      <th>room_type_Private room</th>\n",
       "      <th>room_type_Shared room</th>\n",
       "      <th>host_response_time_Unspecified</th>\n",
       "      <th>host_response_time_a few days or more</th>\n",
       "      <th>host_response_time_within a day</th>\n",
       "      <th>host_response_time_within a few hours</th>\n",
       "      <th>host_response_time_within an hour</th>\n",
       "    </tr>\n",
       "  </thead>\n",
       "  <tbody>\n",
       "    <tr>\n",
       "      <th>0</th>\n",
       "      <td>2009-11-07</td>\n",
       "      <td>96%</td>\n",
       "      <td>True</td>\n",
       "      <td>True</td>\n",
       "      <td>True</td>\n",
       "      <td>49.28201</td>\n",
       "      <td>-123.12669</td>\n",
       "      <td>2</td>\n",
       "      <td>1.0</td>\n",
       "      <td>1.0</td>\n",
       "      <td>...</td>\n",
       "      <td>False</td>\n",
       "      <td>True</td>\n",
       "      <td>False</td>\n",
       "      <td>False</td>\n",
       "      <td>False</td>\n",
       "      <td>False</td>\n",
       "      <td>False</td>\n",
       "      <td>False</td>\n",
       "      <td>False</td>\n",
       "      <td>True</td>\n",
       "    </tr>\n",
       "  </tbody>\n",
       "</table>\n",
       "<p>1 rows × 77 columns</p>\n",
       "</div>"
      ],
      "text/plain": [
       "   host_since host_acceptance_rate  host_is_superhost  host_has_profile_pic   \n",
       "0  2009-11-07                  96%               True                  True  \\\n",
       "\n",
       "   host_identity_verified  latitude  longitude  accommodates  bedrooms  beds   \n",
       "0                    True  49.28201 -123.12669             2       1.0   1.0  \\\n",
       "\n",
       "   ... neighbourhood_cleansed_West Point Grey  room_type_Entire home/apt   \n",
       "0  ...                                  False                       True  \\\n",
       "\n",
       "   room_type_Hotel room  room_type_Private room  room_type_Shared room   \n",
       "0                 False                   False                  False  \\\n",
       "\n",
       "   host_response_time_Unspecified  host_response_time_a few days or more   \n",
       "0                           False                                  False  \\\n",
       "\n",
       "   host_response_time_within a day  host_response_time_within a few hours   \n",
       "0                            False                                  False  \\\n",
       "\n",
       "   host_response_time_within an hour  \n",
       "0                               True  \n",
       "\n",
       "[1 rows x 77 columns]"
      ]
     },
     "execution_count": 80,
     "metadata": {},
     "output_type": "execute_result"
    }
   ],
   "source": [
    "df.head(1)"
   ]
  },
  {
   "cell_type": "code",
   "execution_count": 81,
   "id": "e0d9aaf0-6c50-496d-b612-e0a0c9f9061f",
   "metadata": {},
   "outputs": [
    {
     "data": {
      "text/plain": [
       "host_since                 0\n",
       "host_acceptance_rate     854\n",
       "amenities                  0\n",
       "first_review            1026\n",
       "last_review             1026\n",
       "dtype: int64"
      ]
     },
     "execution_count": 81,
     "metadata": {},
     "output_type": "execute_result"
    }
   ],
   "source": [
    "df_strings.isnull().sum()"
   ]
  },
  {
   "cell_type": "code",
   "execution_count": 95,
   "id": "3dff802e-7be7-45ba-9074-c9e7abe576cb",
   "metadata": {},
   "outputs": [],
   "source": [
    "#We converter the string host_since into a date value \n",
    "df['host_since']= df['host_since'].apply(lambda x: pd.to_datetime(x))"
   ]
  },
  {
   "cell_type": "code",
   "execution_count": 83,
   "id": "571e14f9-033f-4839-8367-e315d0bc55d4",
   "metadata": {},
   "outputs": [],
   "source": [
    "#it seeems that all the missing values for reviews_scores are because there are not not reviews for that property yet, \n",
    "# you can check with number_of_reviews == 0 and see that match the NAN value in the other columns\n",
    "# df.loc[df['number_of_reviews'] == 0 ]['review_scores_rating']"
   ]
  },
  {
   "cell_type": "code",
   "execution_count": 84,
   "id": "fea23904-0b32-43ef-beaf-80bc890a8755",
   "metadata": {},
   "outputs": [],
   "source": [
    "review_columns = ['reviews_per_month','review_scores_rating', 'review_scores_accuracy', 'review_scores_cleanliness', 'review_scores_checkin', 'review_scores_communication', 'review_scores_location', 'review_scores_value']\n",
    "\n",
    "for col in review_columns:\n",
    "    if df.loc[df['number_of_reviews'] == 0, col].isnull().any():\n",
    "        df.loc[df['number_of_reviews'] == 0, col] = 0"
   ]
  },
  {
   "cell_type": "code",
   "execution_count": 85,
   "id": "41d46167-80c2-4409-bca4-f7c661520f82",
   "metadata": {},
   "outputs": [],
   "source": [
    "#We wil fill the dates for first review and last review for those that don't have review yet, with old dates so we don't have problem ploting later\\\n",
    "import datetime"
   ]
  },
  {
   "cell_type": "code",
   "execution_count": 86,
   "id": "140f8f48-71a9-4b07-917c-b6dbc8ee5369",
   "metadata": {},
   "outputs": [],
   "source": [
    "df.loc[df['number_of_reviews'] == 0, 'first_review'] = datetime.datetime.strptime('01/01/1900', '%d/%m/%Y').date()\n",
    "df.loc[df['number_of_reviews'] == 0, 'last_review'] = datetime.datetime.strptime('01/01/1900', '%d/%m/%Y').date()"
   ]
  },
  {
   "cell_type": "code",
   "execution_count": 87,
   "id": "83b3f59a-de28-454a-a2c8-8a756a5de3b0",
   "metadata": {},
   "outputs": [],
   "source": [
    "df[['first_review','last_review']]= df[['first_review','last_review']].apply(lambda x : pd.to_datetime(x))"
   ]
  },
  {
   "cell_type": "code",
   "execution_count": 88,
   "id": "e6806c4d-2cf0-427d-adf2-69c3330faaa6",
   "metadata": {},
   "outputs": [],
   "source": [
    "df['host_acceptance_rate'] = df['host_acceptance_rate'].str.replace('%', '').astype(float) / 100\n"
   ]
  },
  {
   "cell_type": "code",
   "execution_count": 89,
   "id": "1bf81643-6825-481c-9697-bbbb30e7bd7b",
   "metadata": {},
   "outputs": [],
   "source": [
    "df.select_dtypes(include=['float64', 'int64']).corr()['host_acceptance_rate']\n",
    "df.drop('host_acceptance_rate',axis=1,inplace=True)"
   ]
  },
  {
   "cell_type": "code",
   "execution_count": 90,
   "id": "45bc4be5-5d97-41ee-b4d5-3001e1e35401",
   "metadata": {},
   "outputs": [
    {
     "data": {
      "text/plain": [
       "host_since                               0\n",
       "host_is_superhost                        0\n",
       "host_has_profile_pic                     0\n",
       "host_identity_verified                   0\n",
       "latitude                                 0\n",
       "                                        ..\n",
       "host_response_time_Unspecified           0\n",
       "host_response_time_a few days or more    0\n",
       "host_response_time_within a day          0\n",
       "host_response_time_within a few hours    0\n",
       "host_response_time_within an hour        0\n",
       "Length: 76, dtype: int64"
      ]
     },
     "execution_count": 90,
     "metadata": {},
     "output_type": "execute_result"
    }
   ],
   "source": [
    "df.isnull().sum()"
   ]
  },
  {
   "cell_type": "code",
   "execution_count": 93,
   "id": "c587aaea-a653-4a99-9354-adb901e56ad0",
   "metadata": {},
   "outputs": [],
   "source": [
    "df.dropna(inplace=True)\n"
   ]
  },
  {
   "cell_type": "code",
   "execution_count": 96,
   "id": "2521785c-4117-41bd-88d8-d860bac9f198",
   "metadata": {},
   "outputs": [
    {
     "name": "stdout",
     "output_type": "stream",
     "text": [
      "<class 'pandas.core.frame.DataFrame'>\n",
      "Index: 5914 entries, 0 to 5974\n",
      "Data columns (total 76 columns):\n",
      " #   Column                                           Non-Null Count  Dtype         \n",
      "---  ------                                           --------------  -----         \n",
      " 0   host_since                                       5914 non-null   datetime64[ns]\n",
      " 1   host_is_superhost                                5914 non-null   bool          \n",
      " 2   host_has_profile_pic                             5914 non-null   bool          \n",
      " 3   host_identity_verified                           5914 non-null   bool          \n",
      " 4   latitude                                         5914 non-null   float64       \n",
      " 5   longitude                                        5914 non-null   float64       \n",
      " 6   accommodates                                     5914 non-null   int64         \n",
      " 7   bedrooms                                         5914 non-null   float64       \n",
      " 8   beds                                             5914 non-null   float64       \n",
      " 9   amenities                                        5914 non-null   object        \n",
      " 10  price                                            5914 non-null   float64       \n",
      " 11  minimum_nights                                   5914 non-null   int64         \n",
      " 12  maximum_nights                                   5914 non-null   int64         \n",
      " 13  minimum_minimum_nights                           5914 non-null   int64         \n",
      " 14  maximum_minimum_nights                           5914 non-null   int64         \n",
      " 15  minimum_maximum_nights                           5914 non-null   int64         \n",
      " 16  maximum_maximum_nights                           5914 non-null   int64         \n",
      " 17  minimum_nights_avg_ntm                           5914 non-null   float64       \n",
      " 18  maximum_nights_avg_ntm                           5914 non-null   float64       \n",
      " 19  availability_30                                  5914 non-null   int64         \n",
      " 20  availability_60                                  5914 non-null   int64         \n",
      " 21  availability_90                                  5914 non-null   int64         \n",
      " 22  availability_365                                 5914 non-null   int64         \n",
      " 23  number_of_reviews                                5914 non-null   int64         \n",
      " 24  number_of_reviews_ltm                            5914 non-null   int64         \n",
      " 25  number_of_reviews_l30d                           5914 non-null   int64         \n",
      " 26  first_review                                     5914 non-null   datetime64[ns]\n",
      " 27  last_review                                      5914 non-null   datetime64[ns]\n",
      " 28  review_scores_rating                             5914 non-null   float64       \n",
      " 29  review_scores_accuracy                           5914 non-null   float64       \n",
      " 30  review_scores_cleanliness                        5914 non-null   float64       \n",
      " 31  review_scores_checkin                            5914 non-null   float64       \n",
      " 32  review_scores_communication                      5914 non-null   float64       \n",
      " 33  review_scores_location                           5914 non-null   float64       \n",
      " 34  review_scores_value                              5914 non-null   float64       \n",
      " 35  license                                          5914 non-null   bool          \n",
      " 36  instant_bookable                                 5914 non-null   bool          \n",
      " 37  reviews_per_month                                5914 non-null   float64       \n",
      " 38  n_bathrooms                                      5914 non-null   float64       \n",
      " 39  bath_shared                                      5914 non-null   bool          \n",
      " 40  emailhost_verification                           5914 non-null   bool          \n",
      " 41  phonehost_verification                           5914 non-null   bool          \n",
      " 42  photographerhost_verification                    5914 non-null   bool          \n",
      " 43  work_emailhost_verification                      5914 non-null   bool          \n",
      " 44  neighbourhood_cleansed_Arbutus Ridge             5914 non-null   bool          \n",
      " 45  neighbourhood_cleansed_Downtown                  5914 non-null   bool          \n",
      " 46  neighbourhood_cleansed_Downtown Eastside         5914 non-null   bool          \n",
      " 47  neighbourhood_cleansed_Dunbar Southlands         5914 non-null   bool          \n",
      " 48  neighbourhood_cleansed_Fairview                  5914 non-null   bool          \n",
      " 49  neighbourhood_cleansed_Grandview-Woodland        5914 non-null   bool          \n",
      " 50  neighbourhood_cleansed_Hastings-Sunrise          5914 non-null   bool          \n",
      " 51  neighbourhood_cleansed_Kensington-Cedar Cottage  5914 non-null   bool          \n",
      " 52  neighbourhood_cleansed_Kerrisdale                5914 non-null   bool          \n",
      " 53  neighbourhood_cleansed_Killarney                 5914 non-null   bool          \n",
      " 54  neighbourhood_cleansed_Kitsilano                 5914 non-null   bool          \n",
      " 55  neighbourhood_cleansed_Marpole                   5914 non-null   bool          \n",
      " 56  neighbourhood_cleansed_Mount Pleasant            5914 non-null   bool          \n",
      " 57  neighbourhood_cleansed_Oakridge                  5914 non-null   bool          \n",
      " 58  neighbourhood_cleansed_Renfrew-Collingwood       5914 non-null   bool          \n",
      " 59  neighbourhood_cleansed_Riley Park                5914 non-null   bool          \n",
      " 60  neighbourhood_cleansed_Shaughnessy               5914 non-null   bool          \n",
      " 61  neighbourhood_cleansed_South Cambie              5914 non-null   bool          \n",
      " 62  neighbourhood_cleansed_Strathcona                5914 non-null   bool          \n",
      " 63  neighbourhood_cleansed_Sunset                    5914 non-null   bool          \n",
      " 64  neighbourhood_cleansed_Victoria-Fraserview       5914 non-null   bool          \n",
      " 65  neighbourhood_cleansed_West End                  5914 non-null   bool          \n",
      " 66  neighbourhood_cleansed_West Point Grey           5914 non-null   bool          \n",
      " 67  room_type_Entire home/apt                        5914 non-null   bool          \n",
      " 68  room_type_Hotel room                             5914 non-null   bool          \n",
      " 69  room_type_Private room                           5914 non-null   bool          \n",
      " 70  room_type_Shared room                            5914 non-null   bool          \n",
      " 71  host_response_time_Unspecified                   5914 non-null   bool          \n",
      " 72  host_response_time_a few days or more            5914 non-null   bool          \n",
      " 73  host_response_time_within a day                  5914 non-null   bool          \n",
      " 74  host_response_time_within a few hours            5914 non-null   bool          \n",
      " 75  host_response_time_within an hour                5914 non-null   bool          \n",
      "dtypes: bool(42), datetime64[ns](3), float64(16), int64(14), object(1)\n",
      "memory usage: 1.8+ MB\n"
     ]
    }
   ],
   "source": [
    "df.info()"
   ]
  },
  {
   "cell_type": "code",
   "execution_count": 97,
   "id": "2f5462f6-c935-47a0-91aa-bb0e32701504",
   "metadata": {},
   "outputs": [],
   "source": [
    "df.to_csv('/Users/bigfoot/Documents/airbnb-van/data_airbnb_engineered.csv', index=False)"
   ]
  },
  {
   "cell_type": "code",
   "execution_count": null,
   "id": "e0060c43-e9ff-4ffb-a847-0bcae8a6846e",
   "metadata": {},
   "outputs": [],
   "source": []
  }
 ],
 "metadata": {
  "kernelspec": {
   "display_name": "Python 3 (ipykernel)",
   "language": "python",
   "name": "python3"
  },
  "language_info": {
   "codemirror_mode": {
    "name": "ipython",
    "version": 3
   },
   "file_extension": ".py",
   "mimetype": "text/x-python",
   "name": "python",
   "nbconvert_exporter": "python",
   "pygments_lexer": "ipython3",
   "version": "3.10.9"
  }
 },
 "nbformat": 4,
 "nbformat_minor": 5
}
